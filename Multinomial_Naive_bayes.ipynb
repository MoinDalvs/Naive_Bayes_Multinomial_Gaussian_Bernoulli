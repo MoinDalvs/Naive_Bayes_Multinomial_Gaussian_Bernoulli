{
 "cells": [
  {
   "cell_type": "code",
   "execution_count": 1,
   "id": "137469e6",
   "metadata": {},
   "outputs": [],
   "source": [
    "# Assigning features and label variables\n",
    "weather=['Sunny','Overcast','Rainy','Rainy','Rainy','Overcast','Sunny','Sunny',\n",
    "'Rainy','Sunny','Overcast','Overcast','Rainy']\n",
    "temp=['Hot','Hot','Mild','Cool','Cool','Cool','Mild','Cool','Mild','Mild','Mild','Hot','Mild']\n",
    "humidity=['High','High','High','Normal','Normal','Normal','High','Normal','Normal','Normal','High','Normal','High']\n",
    "play=['No','Yes','Yes','Yes','No','Yes','No','Yes','Yes','Yes','Yes','Yes','No']"
   ]
  },
  {
   "cell_type": "code",
   "execution_count": 2,
   "id": "b1ffce32",
   "metadata": {},
   "outputs": [],
   "source": [
    "# Import LabelEncoder\n",
    "from sklearn import preprocessing"
   ]
  },
  {
   "cell_type": "code",
   "execution_count": 3,
   "id": "90f48ce1",
   "metadata": {},
   "outputs": [
    {
     "name": "stdout",
     "output_type": "stream",
     "text": [
      "Weather: [2 0 1 1 1 0 2 2 1 2 0 0 1]\n"
     ]
    }
   ],
   "source": [
    "#creating labelEncoder\n",
    "le = preprocessing.LabelEncoder()\n",
    "# Converting string labels into numbers.\n",
    "weather_encoded=le.fit_transform(weather)\n",
    "print (\"Weather:\",weather_encoded)\n",
    "\n",
    "# Converting string labels into numbers\n",
    "temp_encoded=le.fit_transform(temp)\n",
    "humidity_encoded=le.fit_transform(humidity)\n",
    "label=le.fit_transform(play)"
   ]
  },
  {
   "cell_type": "code",
   "execution_count": 4,
   "id": "9035021e",
   "metadata": {},
   "outputs": [
    {
     "data": {
      "text/plain": [
       "numpy.ndarray"
      ]
     },
     "execution_count": 4,
     "metadata": {},
     "output_type": "execute_result"
    }
   ],
   "source": [
    "type(weather_encoded)"
   ]
  },
  {
   "cell_type": "code",
   "execution_count": 5,
   "id": "67f6ea01",
   "metadata": {},
   "outputs": [
    {
     "name": "stdout",
     "output_type": "stream",
     "text": [
      "Weather: [2 0 1 1 1 0 2 2 1 2 0 0 1]\n",
      "Temp: [1 1 2 0 0 0 2 0 2 2 2 1 2]\n",
      "Humidity: [0 0 0 1 1 1 0 1 1 1 0 1 0]\n",
      "Play: [0 1 1 1 0 1 0 1 1 1 1 1 0]\n"
     ]
    }
   ],
   "source": [
    "print (\"Weather:\",weather_encoded)\n",
    "\n",
    "print (\"Temp:\",temp_encoded)\n",
    "print (\"Humidity:\",humidity_encoded)\n",
    "print (\"Play:\",label)"
   ]
  },
  {
   "cell_type": "code",
   "execution_count": 6,
   "id": "d39a66fa",
   "metadata": {},
   "outputs": [
    {
     "name": "stdout",
     "output_type": "stream",
     "text": [
      "<class 'list'>\n"
     ]
    },
    {
     "data": {
      "text/plain": [
       "[(2, 1, 0),\n",
       " (0, 1, 0),\n",
       " (1, 2, 0),\n",
       " (1, 0, 1),\n",
       " (1, 0, 1),\n",
       " (0, 0, 1),\n",
       " (2, 2, 0),\n",
       " (2, 0, 1),\n",
       " (1, 2, 1),\n",
       " (2, 2, 1),\n",
       " (0, 2, 0),\n",
       " (0, 1, 1),\n",
       " (1, 2, 0)]"
      ]
     },
     "execution_count": 6,
     "metadata": {},
     "output_type": "execute_result"
    }
   ],
   "source": [
    "#Combinig weather and temp into single listof tuples\n",
    "features=list(zip(weather_encoded,temp_encoded,humidity_encoded))\n",
    "print (type(features))\n",
    "features"
   ]
  },
  {
   "cell_type": "code",
   "execution_count": 7,
   "id": "ed78353d",
   "metadata": {},
   "outputs": [
    {
     "name": "stdout",
     "output_type": "stream",
     "text": [
      "Predicted Value: [0]\n"
     ]
    }
   ],
   "source": [
    "#Import Categorical Naive Bayes model\n",
    "from sklearn.naive_bayes import CategoricalNB\n",
    "\n",
    "#Create a Categorical Classifier\n",
    "model = CategoricalNB()\n",
    "\n",
    "# Train the model using the training sets\n",
    "model.fit(features,label)\n",
    "\n",
    "#Predict Output\n",
    "predicted= model.predict([[2,1,0]]) # 0:Overcast, 2:Mild, 1:Normal\n",
    "print (\"Predicted Value:\", predicted)"
   ]
  },
  {
   "cell_type": "code",
   "execution_count": null,
   "id": "45937568",
   "metadata": {},
   "outputs": [],
   "source": []
  }
 ],
 "metadata": {
  "kernelspec": {
   "display_name": "Python 3 (ipykernel)",
   "language": "python",
   "name": "python3"
  },
  "language_info": {
   "codemirror_mode": {
    "name": "ipython",
    "version": 3
   },
   "file_extension": ".py",
   "mimetype": "text/x-python",
   "name": "python",
   "nbconvert_exporter": "python",
   "pygments_lexer": "ipython3",
   "version": "3.9.7"
  }
 },
 "nbformat": 4,
 "nbformat_minor": 5
}
